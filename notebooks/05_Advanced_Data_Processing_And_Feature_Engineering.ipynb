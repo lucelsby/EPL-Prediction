{
 "cells": [
  {
   "cell_type": "markdown",
   "id": "5193d358-340e-41b7-a643-d5a5e6da0a95",
   "metadata": {},
   "source": [
    "<center><h1><font size=6> Initial Data Processing and Feature Engineering </h1></center>"
   ]
  },
  {
   "cell_type": "markdown",
   "id": "cd840d7b-bf68-4dab-b547-1c747a87c416",
   "metadata": {},
   "source": [
    "### Load libraries and setup notebook configuration"
   ]
  },
  {
   "cell_type": "code",
   "execution_count": 1,
   "id": "a7911109-a7f0-48e7-9d2b-22927be84dd2",
   "metadata": {},
   "outputs": [],
   "source": [
    "# import packages\n",
    "import pandas as pd \n",
    "import numpy as np\n",
    "import os\n",
    "from pathlib import Path\n",
    "import warnings\n",
    "\n",
    "\n",
    "\n",
    "# set pandas configurations\n",
    "pd.set_option(\"display.precision\", 2) # display to 1 decimpal place\n",
    "pd.set_option(\"display.max.columns\", None) # display all columns so we can view the whole dataset\n",
    "pd.set_option('display.float_format', '{:.2f}'.format) # Disable scientific notation for pandas\n",
    "warnings.filterwarnings(\"ignore\", category=pd.errors.SettingWithCopyWarning) # Disable setting with copy warnings\n",
    "\n",
    "\n",
    "# set directories\n",
    "os.chdir('..') # change current working directory to the parent directory to help access files/directories at a higher level\n",
    "DATAPATH = Path(r'data') # set data path\n",
    "\n",
    "\n",
    "# import from source directory\n",
    "from src import constants"
   ]
  },
  {
   "cell_type": "markdown",
   "id": "3f131d6a-4fe5-412a-8e1d-e2f45cce03f7",
   "metadata": {},
   "source": [
    "### Load training data"
   ]
  },
  {
   "cell_type": "code",
   "execution_count": 31,
   "id": "7a974e7d-5798-4f6a-aeb7-feb4100a1709",
   "metadata": {},
   "outputs": [],
   "source": [
    "X_train_full = pd.read_csv(f\"{DATAPATH}/processed/X_train_full.csv\")\n",
    "y_train_full = pd.read_csv(f\"{DATAPATH}/processed/y_train_full.csv\")"
   ]
  },
  {
   "cell_type": "code",
   "execution_count": 32,
   "id": "746e794f-a93d-4ffc-bd33-d72c15fb9f70",
   "metadata": {},
   "outputs": [],
   "source": [
    "train = X_train_full.copy()"
   ]
  },
  {
   "cell_type": "markdown",
   "id": "047dc718-7e03-487c-ab7d-40cc3bb8c51e",
   "metadata": {},
   "source": [
    "### Dealing with missing values"
   ]
  },
  {
   "cell_type": "code",
   "execution_count": 33,
   "id": "970c2527-2422-42b4-bf8c-d585e95e6919",
   "metadata": {},
   "outputs": [
    {
     "name": "stdout",
     "output_type": "stream",
     "text": [
      "                           Total Missing Values  Missing Percentage\n",
      "unique_match_id                               0                0.00\n",
      "season                                        0                0.00\n",
      "date                                          0                0.00\n",
      "day_of_week                                   0                0.00\n",
      "round                                         0                0.00\n",
      "day                                           0                0.00\n",
      "team                                          0                0.00\n",
      "home                                          0                0.00\n",
      "promoted                                      0                0.00\n",
      "opponent                                      0                0.00\n",
      "promoted_opponent                             0                0.00\n",
      "days_since_last_game                        434                2.43\n",
      "games_played_last_21_days                   465                2.60\n",
      "pl_total_points                               4                0.02\n",
      "pl_total_gf                                   4                0.02\n",
      "pl_total_ga                                   4                0.02\n",
      "pl_total_goal_diff                            4                0.02\n",
      "pl_position                                   0                0.00\n",
      "last_h2h                                   1054                5.89\n",
      "last_h2h_form                              1054                5.89\n",
      "last_h2h_venue                             2106               11.77\n",
      "last_h2h_venue_form                        2106               11.77\n",
      "prev_season_points                         2621               14.65\n",
      "prev_season_gf                             2621               14.65\n",
      "prev_season_ga                             2621               14.65\n",
      "prev_season_goal_diff                      2621               14.65\n",
      "points_pl_form                               23                0.13\n",
      "gf_pl_form                                   23                0.13\n",
      "ga_pl_form                                   23                0.13\n",
      "pl_position_opponent                          0                0.00\n"
     ]
    }
   ],
   "source": [
    "# define function to summarise missing values\n",
    "def missing_values_summary(df):\n",
    "    missing_values = df.isnull().sum()  # Calculate total missing values per column\n",
    "    total_values = df.shape[0]  # Total number of rows in the DataFrame\n",
    "    missing_percentage = (missing_values / total_values) * 100  # Calculate percentage of missing values\n",
    "\n",
    "    summary_df = pd.DataFrame({'Total Missing Values': missing_values, 'Missing Percentage': missing_percentage})\n",
    "    return summary_df\n",
    "\n",
    "# summarise missing values for data frame\n",
    "summary = missing_values_summary(train)\n",
    "print(summary)"
   ]
  },
  {
   "cell_type": "code",
   "execution_count": 55,
   "id": "632f404c-afdd-4199-afa4-2af1b0d3c348",
   "metadata": {},
   "outputs": [],
   "source": [
    "from sklearn.base import BaseEstimator, TransformerMixin\n",
    "from sklearn.pipeline import Pipeline\n",
    "\n",
    "# Define the columns for each preprocessing step\n",
    "columns_to_remove_nas = ['unique_match_id', 'season', 'date', 'day_of_week', 'round', 'day', 'team', 'home', 'promoted', 'opponent', 'promoted_opponent',\n",
    "                        'pl_total_points', 'pl_total_gf', 'pl_total_ga', 'pl_total_goal_diff', 'pl_position', 'pl_position_opponent']\n",
    "columns_to_impute_with_mean = ['days_since_last_game', 'games_played_last_21_days']\n",
    "columns_to_impute_based_on_promotion_status = ['prev_season_points', 'prev_season_gf', 'prev_season_ga', 'prev_season_goal_diff', 'points_pl_form', 'gf_pl_form', 'ga_pl_form']\n",
    "columns_to_impute_based_on_pl_position = ['last_h2h', 'last_h2h_form', 'last_h2h_venue', 'last_h2h_venue_form']\n",
    "\n",
    "\n",
    "# define custom transformer, inherited from the sklearn.base BaseEstimator and TransformerMixin classes\n",
    "class DropNaRowsTransformer(BaseEstimator, TransformerMixin):\n",
    "    # initalise additional parameters based on the chosen columns\n",
    "    def __init__(self, columns):\n",
    "        self.columns = columns\n",
    "    \n",
    "    def fit(self, X, y=None):\n",
    "        return self\n",
    "\n",
    "    def transform(self, X, y=None):\n",
    "        X_transformed = X.dropna(subset=self.columns, inplace=False)\n",
    "        return X_transformed\n",
    "\n",
    "\n",
    "# define a custom transformer to impute missing values with the mean of each column\n",
    "class MeanImputer(BaseEstimator, TransformerMixin):\n",
    "    # initalise additional parameters based on the chosen columns\n",
    "    def __init__(self, columns):\n",
    "        self.columns = columns\n",
    "        self.means = {}\n",
    "        \n",
    "    def fit(self, X, y=None):\n",
    "        for column in self.columns:\n",
    "            self.means[column] = {\n",
    "                'mean': X[column].mean()\n",
    "            }\n",
    "        return self \n",
    "    \n",
    "    def transform(self, X, y=None):\n",
    "        X_transformed = X.copy()\n",
    "        for column in self.columns:\n",
    "            X_transformed[column] = X_transformed[column].fillna(value=self.means[column]['mean'])\n",
    "        return X_transformed\n",
    "    \n",
    "    \n",
    "# Define custom transformer for imputing missing values based on the promotion status - if the team is promoted, replace NA the 10th percentile value or the 50th percentile if not\n",
    "class PromotedImputer(BaseEstimator, TransformerMixin):\n",
    "    def __init__(self, columns):\n",
    "        self.columns = columns\n",
    "        self.percentiles = {}\n",
    "\n",
    "    def fit(self, X, y=None):\n",
    "        for column in self.columns:\n",
    "            self.percentiles[column] = {\n",
    "                '10th': X[column].quantile(0.1),\n",
    "                '50th': X[column].quantile(0.5)\n",
    "            }\n",
    "        return self\n",
    "\n",
    "    def transform(self, X, y=None):\n",
    "        X_transformed = X.copy()\n",
    "        for column in self.columns:\n",
    "            X_transformed.loc[X_transformed['promoted'] == 1, column] = X_transformed.loc[X_transformed['promoted'] == 1, column].fillna(value=self.percentiles[column]['10th'])\n",
    "            X_transformed.loc[X_transformed['promoted'] == 0, column] = X_transformed.loc[X_transformed['promoted'] == 0, column].fillna(value=self.percentiles[column]['50th'])\n",
    "        return X_transformed\n",
    "    \n",
    "# define a custom transformer to impute missing values based on the team and opponents premier league position\n",
    "class PlPositionImputer(BaseEstimator, TransformerMixin):\n",
    "    def __init__(self, columns):\n",
    "        self.columns = columns\n",
    "        self.position_means = pd.DataFrame()\n",
    "        \n",
    "    def fit(self, X, y=None):\n",
    "        for column in self.columns:\n",
    "            column_means = pd.DataFrame(X.groupby(['pl_position', 'pl_position_opponent'])[column].mean())\n",
    "            self.position_means = pd.concat([self.position_means, column_means[column]], axis=1)\n",
    "        return self\n",
    "    \n",
    "    def transform(self, X, y=None):\n",
    "        X_transformed = X.copy()\n",
    "        for column in columns:\n",
    "            X_transformed[column] = X_transformed.apply(lambda row: row[column] if not pd.isna(row[column]) else self.position_means.loc[(row['pl_position'], row['pl_position_opponent']), column], axis=1)\n",
    "        return X_transformed\n",
    "\n",
    "\n",
    "pipe = Pipeline(\n",
    "    steps=[\n",
    "        (\"remove_rows_with_nas\", DropNaRowsTransformer(columns=columns_to_remove_nas)),\n",
    "        (\"impute_with_means_of_columns\", MeanImputer(columns=columns_to_impute_with_mean)),\n",
    "        (\"impute_with_mean_of_columns_by_promotion_status\", PromotedImputer(columns=columns_to_impute_based_on_promotion_status)),\n",
    "        (\"impute_with_mean_of_columns_by_pl_position\", PlPositionImputer(columns=columns_to_impute_based_on_pl_position))\n",
    "    ]\n",
    ")\n",
    "\n",
    "transformed_train = pipe.fit_transform(train)"
   ]
  },
  {
   "cell_type": "code",
   "execution_count": 56,
   "id": "1de8e7de-56fd-47fb-9a5e-bf299fec2215",
   "metadata": {},
   "outputs": [
    {
     "name": "stdout",
     "output_type": "stream",
     "text": [
      "                           Total Missing Values  Missing Percentage\n",
      "unique_match_id                               0                0.00\n",
      "season                                        0                0.00\n",
      "date                                          0                0.00\n",
      "day_of_week                                   0                0.00\n",
      "round                                         0                0.00\n",
      "day                                           0                0.00\n",
      "team                                          0                0.00\n",
      "home                                          0                0.00\n",
      "promoted                                      0                0.00\n",
      "opponent                                      0                0.00\n",
      "promoted_opponent                             0                0.00\n",
      "days_since_last_game                          0                0.00\n",
      "games_played_last_21_days                     0                0.00\n",
      "pl_total_points                               0                0.00\n",
      "pl_total_gf                                   0                0.00\n",
      "pl_total_ga                                   0                0.00\n",
      "pl_total_goal_diff                            0                0.00\n",
      "pl_position                                   0                0.00\n",
      "last_h2h                                      0                0.00\n",
      "last_h2h_form                                 0                0.00\n",
      "last_h2h_venue                                0                0.00\n",
      "last_h2h_venue_form                           0                0.00\n",
      "prev_season_points                            0                0.00\n",
      "prev_season_gf                                0                0.00\n",
      "prev_season_ga                                0                0.00\n",
      "prev_season_goal_diff                         0                0.00\n",
      "points_pl_form                                0                0.00\n",
      "gf_pl_form                                    0                0.00\n",
      "ga_pl_form                                    0                0.00\n",
      "pl_position_opponent                          0                0.00\n"
     ]
    }
   ],
   "source": [
    "summary = missing_values_summary(transformed_train)\n",
    "print(summary)"
   ]
  },
  {
   "cell_type": "code",
   "execution_count": null,
   "id": "67e45019-355d-4dfc-80b6-49c8b0a5fd25",
   "metadata": {},
   "outputs": [],
   "source": []
  },
  {
   "cell_type": "code",
   "execution_count": null,
   "id": "89e216bc-1965-4c86-a297-35304b1bb0d1",
   "metadata": {},
   "outputs": [],
   "source": []
  },
  {
   "cell_type": "code",
   "execution_count": null,
   "id": "6aeb4464-97be-4937-9731-3659d4e5c912",
   "metadata": {},
   "outputs": [],
   "source": []
  },
  {
   "cell_type": "code",
   "execution_count": null,
   "id": "7e4c70d2-871a-478d-b8c8-0170b3ae3f78",
   "metadata": {},
   "outputs": [],
   "source": []
  },
  {
   "cell_type": "code",
   "execution_count": null,
   "id": "38343d9f-5564-4bb8-8323-19190a2f4af3",
   "metadata": {},
   "outputs": [],
   "source": []
  },
  {
   "cell_type": "code",
   "execution_count": null,
   "id": "21c55383-2b31-4698-84f2-26a0ed666a5b",
   "metadata": {},
   "outputs": [],
   "source": []
  }
 ],
 "metadata": {
  "kernelspec": {
   "display_name": "Python 3 (ipykernel)",
   "language": "python",
   "name": "python3"
  },
  "language_info": {
   "codemirror_mode": {
    "name": "ipython",
    "version": 3
   },
   "file_extension": ".py",
   "mimetype": "text/x-python",
   "name": "python",
   "nbconvert_exporter": "python",
   "pygments_lexer": "ipython3",
   "version": "3.8.8"
  }
 },
 "nbformat": 4,
 "nbformat_minor": 5
}
