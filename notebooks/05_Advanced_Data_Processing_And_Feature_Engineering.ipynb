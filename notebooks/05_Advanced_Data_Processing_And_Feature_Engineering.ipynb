{
 "cells": [
  {
   "cell_type": "markdown",
   "id": "5193d358-340e-41b7-a643-d5a5e6da0a95",
   "metadata": {},
   "source": [
    "<center><h1><font size=6> Initial Data Processing and Feature Engineering </h1></center>"
   ]
  },
  {
   "cell_type": "markdown",
   "id": "cd840d7b-bf68-4dab-b547-1c747a87c416",
   "metadata": {},
   "source": [
    "### Load libraries and setup notebook configuration"
   ]
  },
  {
   "cell_type": "code",
   "execution_count": 1,
   "id": "a7911109-a7f0-48e7-9d2b-22927be84dd2",
   "metadata": {},
   "outputs": [],
   "source": [
    "# import packages\n",
    "import pandas as pd \n",
    "import numpy as np\n",
    "import os\n",
    "from pathlib import Path\n",
    "import warnings\n",
    "\n",
    "\n",
    "\n",
    "# set pandas configurations\n",
    "pd.set_option(\"display.precision\", 2) # display to 1 decimpal place\n",
    "pd.set_option(\"display.max.columns\", None) # display all columns so we can view the whole dataset\n",
    "pd.set_option('display.float_format', '{:.2f}'.format) # Disable scientific notation for pandas\n",
    "warnings.filterwarnings(\"ignore\", category=pd.errors.SettingWithCopyWarning) # Disable setting with copy warnings\n",
    "\n",
    "\n",
    "# set directories\n",
    "os.chdir('..') # change current working directory to the parent directory to help access files/directories at a higher level\n",
    "DATAPATH = Path(r'data') # set data path\n",
    "\n",
    "\n",
    "# import from source directory\n",
    "from src import constants"
   ]
  },
  {
   "cell_type": "markdown",
   "id": "3f131d6a-4fe5-412a-8e1d-e2f45cce03f7",
   "metadata": {},
   "source": [
    "### Load training data"
   ]
  },
  {
   "cell_type": "code",
   "execution_count": 70,
   "id": "7a974e7d-5798-4f6a-aeb7-feb4100a1709",
   "metadata": {},
   "outputs": [],
   "source": [
    "X_train_full = pd.read_csv(f\"{DATAPATH}/processed/X_train_full.csv\")\n",
    "y_train_full = pd.read_csv(f\"{DATAPATH}/processed/y_train_full.csv\")"
   ]
  },
  {
   "cell_type": "code",
   "execution_count": 71,
   "id": "746e794f-a93d-4ffc-bd33-d72c15fb9f70",
   "metadata": {},
   "outputs": [],
   "source": [
    "train = X_train_full.copy()"
   ]
  },
  {
   "cell_type": "markdown",
   "id": "047dc718-7e03-487c-ab7d-40cc3bb8c51e",
   "metadata": {},
   "source": [
    "### Dealing with missing values"
   ]
  },
  {
   "cell_type": "code",
   "execution_count": 72,
   "id": "970c2527-2422-42b4-bf8c-d585e95e6919",
   "metadata": {},
   "outputs": [
    {
     "name": "stdout",
     "output_type": "stream",
     "text": [
      "                                    Total Missing Values  Missing Percentage\n",
      "unique_match_id                                        0                0.00\n",
      "season                                                 0                0.00\n",
      "date                                                   0                0.00\n",
      "day_of_week                                            0                0.00\n",
      "round                                                  0                0.00\n",
      "day                                                    0                0.00\n",
      "team                                                   0                0.00\n",
      "promoted                                               0                0.00\n",
      "opponent                                               0                0.00\n",
      "promoted_opponent                                      0                0.00\n",
      "home                                                   0                0.00\n",
      "days_since_last_game                                 434                2.43\n",
      "games_played_last_21_days                            465                2.60\n",
      "pl_total_points                                        4                0.02\n",
      "pl_total_gf                                            4                0.02\n",
      "pl_total_ga                                            4                0.02\n",
      "pl_total_goal_diff                                     4                0.02\n",
      "pl_position                                            0                0.00\n",
      "last_h2h                                            1054                5.89\n",
      "last_h2h_form                                       1054                5.89\n",
      "last_h2h_venue                                      2106               11.77\n",
      "last_h2h_venue_form                                 2106               11.77\n",
      "prev_season_points                                  2621               14.65\n",
      "prev_season_gf                                      2621               14.65\n",
      "prev_season_ga                                      2621               14.65\n",
      "prev_season_goal_diff                               2621               14.65\n",
      "points_pl_form                                        23                0.13\n",
      "gf_pl_form                                            23                0.13\n",
      "ga_pl_form                                            23                0.13\n",
      "days_since_last_game_opponent                        432                2.41\n",
      "games_played_last_21_days_opponent                   462                2.58\n",
      "pl_total_points_opponent                               6                0.03\n",
      "pl_total_gf_opponent                                   6                0.03\n",
      "pl_total_ga_opponent                                   6                0.03\n",
      "pl_total_goal_diff_opponent                            6                0.03\n",
      "pl_position_opponent                                   0                0.00\n",
      "points_pl_form_opponent                               25                0.14\n",
      "gf_pl_form_opponent                                   25                0.14\n",
      "ga_pl_form_opponent                                   25                0.14\n",
      "prev_season_points_opponent                         2620               14.65\n",
      "prev_season_gf_opponent                             2620               14.65\n",
      "prev_season_ga_opponent                             2620               14.65\n",
      "prev_season_goal_diff_opponent                      2620               14.65\n"
     ]
    }
   ],
   "source": [
    "# define function to summarise missing values\n",
    "def missing_values_summary(df):\n",
    "    missing_values = df.isnull().sum()  # Calculate total missing values per column\n",
    "    total_values = df.shape[0]  # Total number of rows in the DataFrame\n",
    "    missing_percentage = (missing_values / total_values) * 100  # Calculate percentage of missing values\n",
    "\n",
    "    summary_df = pd.DataFrame({'Total Missing Values': missing_values, 'Missing Percentage': missing_percentage})\n",
    "    return summary_df\n",
    "\n",
    "# summarise missing values for data frame\n",
    "summary = missing_values_summary(train)\n",
    "print(summary)"
   ]
  },
  {
   "cell_type": "markdown",
   "id": "09553fb0-7e6d-4152-8c97-e965140401c9",
   "metadata": {},
   "source": [
    "#### Define a set of custom transformers inhereted from scikit-learn base classes to transform the data"
   ]
  },
  {
   "cell_type": "markdown",
   "id": "f0167f49-ad88-4fea-8e55-cb0c55528769",
   "metadata": {},
   "source": [
    "For some columns, we only have a small amount of irregular missing values. Here, it makes sense to just remove the rows associated with these observations from the data."
   ]
  },
  {
   "cell_type": "code",
   "execution_count": 73,
   "id": "5b44db33-ce43-4855-becf-1633a54470a4",
   "metadata": {},
   "outputs": [],
   "source": [
    "from sklearn.base import BaseEstimator, TransformerMixin\n",
    "from sklearn.pipeline import Pipeline\n",
    "\n",
    "# define custom transformer to remove any rows that have NA values for \n",
    "class DropNaRowsTransformer(BaseEstimator, TransformerMixin):\n",
    "    # initalise additional parameters based on the chosen columns\n",
    "    def __init__(self, columns):\n",
    "        self.columns = columns\n",
    "    \n",
    "    def fit(self, X, y=None):\n",
    "        return self\n",
    "\n",
    "    def transform(self, X, y=None):\n",
    "        X_transformed = X.dropna(subset=self.columns, inplace=False)\n",
    "        return X_transformed\n",
    "    \n",
    "# define list of columns to remove NAs\n",
    "columns_to_remove_nas = ['unique_match_id', 'season', 'date', 'day_of_week', 'round', 'day', 'team', 'home', 'promoted', 'opponent', 'promoted_opponent', 'pl_position', 'pl_position_opponent',\n",
    "                        'pl_total_points', 'pl_total_gf', 'pl_total_ga', 'pl_total_goal_diff', 'pl_total_points_opponent', 'pl_total_gf_opponent', 'pl_total_ga_opponent', 'pl_total_goal_diff_opponent']"
   ]
  },
  {
   "cell_type": "markdown",
   "id": "f0d8840e-8472-4679-a6c0-9aa578c8b7f3",
   "metadata": {},
   "source": [
    "For other columns, it makes sense to impute the missing values with the averages of the values. An example of this is the days since last game and number of games in last 21 days feature. From the EDA, we saw that the missing values for these features tend to all be in the first game week due to the lack of data. It therefore makes sense to just impute them as the average over the course of the season. This means all teams/opponents will have the same value in the first gameweek which makes sense intuitively."
   ]
  },
  {
   "cell_type": "code",
   "execution_count": 74,
   "id": "05026448-59ab-4d01-8115-8a08df116481",
   "metadata": {},
   "outputs": [],
   "source": [
    "# define a custom transformer to impute missing values with the mean of each column\n",
    "class MeanImputer(BaseEstimator, TransformerMixin):\n",
    "    # initalise additional parameters based on the chosen columns\n",
    "    def __init__(self, columns):\n",
    "        self.columns = columns\n",
    "        self.means = {}\n",
    "        \n",
    "    def fit(self, X, y=None):\n",
    "        for column in self.columns:\n",
    "            self.means[column] = {\n",
    "                'mean': X[column].mean()\n",
    "            }\n",
    "        return self \n",
    "    \n",
    "    def transform(self, X, y=None):\n",
    "        X_transformed = X.copy()\n",
    "        for column in self.columns:\n",
    "            X_transformed[column] = X_transformed[column].fillna(value=self.means[column]['mean'])\n",
    "        return X_transformed\n",
    "    \n",
    "    \n",
    "# define list of columns to be imputed using the mean imputer\n",
    "columns_to_impute_with_mean = ['days_since_last_game', 'games_played_last_21_days', 'days_since_last_game_opponent', 'games_played_last_21_days_opponent']"
   ]
  },
  {
   "cell_type": "markdown",
   "id": "be6002ab-0153-4410-a6fb-6f8775e3e7c7",
   "metadata": {},
   "source": [
    "For some variables, whether there is a missing value or not is highly linked to the team's promotion status. This is because promoted teams dont appear in the previous season's data so we can't calculate some metrics. For these cases, it makes sense to impute the missing values based on the average historic values of promoted or non-promoted teams."
   ]
  },
  {
   "cell_type": "code",
   "execution_count": 75,
   "id": "cd813785-d366-4525-8c00-d90c6d490177",
   "metadata": {},
   "outputs": [],
   "source": [
    "# Define custom transformer for imputing missing values based on the promotion status - if the team is promoted, replace NA the 10th percentile value or the 50th percentile if not\n",
    "class PromotedImputer(BaseEstimator, TransformerMixin):\n",
    "    def __init__(self, columns, columns_opponent):\n",
    "        self.columns = columns\n",
    "        self.columns_opponent = columns_opponent\n",
    "        self.percentiles = {}\n",
    "        self.percentiles_opponent = {}\n",
    "\n",
    "    def fit(self, X, y=None):\n",
    "        for column in self.columns:\n",
    "            self.percentiles[column] = {\n",
    "                '10th': X[column].quantile(0.1),\n",
    "                '50th': X[column].quantile(0.5)\n",
    "            }\n",
    "        for column_opponent in self.columns_opponent:\n",
    "            self.percentiles_opponent[column_opponent] = {\n",
    "                '10th': X[column_opponent].quantile(0.1),\n",
    "                '50th': X[column_opponent].quantile(0.5)\n",
    "            }\n",
    "        return self\n",
    "\n",
    "    def transform(self, X, y=None):\n",
    "        X_transformed = X.copy()\n",
    "        for column in self.columns:\n",
    "            X_transformed.loc[X_transformed['promoted'] == 1, column] = X_transformed.loc[X_transformed['promoted'] == 1, column].fillna(value=self.percentiles[column]['10th'])\n",
    "            X_transformed.loc[X_transformed['promoted'] == 0, column] = X_transformed.loc[X_transformed['promoted'] == 0, column].fillna(value=self.percentiles[column]['50th'])\n",
    "        for column_opponent in self.columns_opponent:\n",
    "            X_transformed.loc[X_transformed['promoted_opponent'] == 1, column_opponent] = X_transformed.loc[X_transformed['promoted_opponent'] == 1, column_opponent].fillna(value=self.percentiles_opponent[column_opponent]['10th'])\n",
    "            X_transformed.loc[X_transformed['promoted_opponent'] == 0, column_opponent] = X_transformed.loc[X_transformed['promoted_opponent'] == 0, column_opponent].fillna(value=self.percentiles_opponent[column_opponent]['50th'])\n",
    "        return X_transformed\n",
    "    \n",
    "    \n",
    "# define list of columns to impute in this way\n",
    "columns_to_impute_based_on_promotion_status = ['prev_season_points', 'prev_season_gf', 'prev_season_ga', 'prev_season_goal_diff', 'points_pl_form', 'gf_pl_form', 'ga_pl_form']\n",
    "columns_to_impute_based_on_promotion_status_oppontent = ['prev_season_points_opponent', 'prev_season_gf_opponent', 'prev_season_ga_opponent', 'prev_season_goal_diff_opponent', 'points_pl_form_opponent', 'gf_pl_form_opponent', 'ga_pl_form_opponent']"
   ]
  },
  {
   "cell_type": "markdown",
   "id": "460a3450-f7b1-4b80-ab91-f53b4bb8bd20",
   "metadata": {},
   "source": [
    "For some other columns, we might want to impute the missing values in a more sophisticated way. For example, the teams' and opponents' H2H record is found to have a high correlation with the predictor (see EDA) and so could be an important determinant in our model. However, where two teams havent played each other before, we won't have this metric. I want to impute the missing values here using a clustering algorithm based on important determinants of game results, namely the venue of the match and the team and opponents' points acheived in previous seasons. This will impute the head to head records based on a metric of how good the team and opponent is, as well as the venue identifier."
   ]
  },
  {
   "cell_type": "code",
   "execution_count": 80,
   "id": "6d2ea008-2f7d-4ba3-a295-73cd6276cec3",
   "metadata": {},
   "outputs": [],
   "source": [
    "from sklearn.impute import KNNImputer\n",
    "\n",
    "# define a custom transformer to impute missing values based on a decision tree algorithm trained on the relationship between venue and team metrics for the non-missing value data we have\n",
    "class DecisionTreeClassifierImputer(BaseEstimator, TransformerMixin):\n",
    "    def __init__(self, target_columns, reference_columns):\n",
    "        self.target_columns = target_columns\n",
    "        self.reference_columns = reference_columns\n",
    "        self.decision_tree_classifiers = {}\n",
    "        \n",
    "    def fit(self, X, y=None):\n",
    "        \n",
    "        # Fit a separate Decision Tree model for each target column\n",
    "        for target_column in self.target_columns:\n",
    "    \n",
    "            # Split out X and y for decision tree: the X will be the reference columns and the data where the target column is not NA\n",
    "            X_where_target_non_na = X[X[target_column].notna()]\n",
    "            X_decision_tree = X_where_target_non_na[self.reference_columns]\n",
    "            y_decision_tree = X_where_target_non_na[target_column]\n",
    "\n",
    "            # Create an instance of the Decision Tree regressor\n",
    "            decision_tree = DecisionTreeRegressor()\n",
    "\n",
    "            # Fit the model on the reference columns and target variable\n",
    "            decision_tree.fit(X_decision_tree, y_decision_tree)\n",
    "\n",
    "            # assign decision tree model to column\n",
    "            self.decision_tree_classifiers[target_column] = decision_tree\n",
    "        \n",
    "        return self\n",
    "    \n",
    "    def transform(self, X, y=None):\n",
    "        \n",
    "        X_transformed = X.copy()\n",
    "        \n",
    "        # Apply Decision Tree model to target columns\n",
    "        for target_column in self.target_columns:\n",
    "    \n",
    "            # Split out the X where these is a missing value in the target column for prediction\n",
    "            X_where_target_is_na = X[X[target_column].isna()]\n",
    "            X_decision_tree_predict = X_where_target_is_na[self.reference_columns]\n",
    "\n",
    "            # collect classifier for specific variable\n",
    "            decision_tree = self.decision_tree_classifiers[target_column]\n",
    "\n",
    "            # use decision tree to predict target column\n",
    "            y_decision_tree_predicted = decision_tree.predict(X_decision_tree_predict)\n",
    "\n",
    "            # Replace the missing values in the target column with the predicted values\n",
    "            X_transformed.loc[X_where_target_is_na.index, target_column] = y_decision_tree_predicted\n",
    "        \n",
    "        return X_transformed\n",
    "\n",
    "# define a list of columns to be imputed in this way alongside the columns to use as reference columns\n",
    "columns_to_impute_based_on_decision_tree = ['last_h2h', 'last_h2h_form', 'last_h2h_venue', 'last_h2h_venue_form']\n",
    "reference_columns_for_decision_tree = ['home', 'prev_season_points', 'prev_season_points_opponent']"
   ]
  },
  {
   "cell_type": "markdown",
   "id": "e7ca02b4-a2f7-408c-af38-03076e88ebe2",
   "metadata": {},
   "source": [
    "#### Transform data using transformation pipeline based on pre-defined custom transformers"
   ]
  },
  {
   "cell_type": "code",
   "execution_count": 81,
   "id": "7c61850e-c1b8-4048-a2ac-85b847c019d2",
   "metadata": {},
   "outputs": [],
   "source": [
    "pipe = Pipeline(\n",
    "    steps=[\n",
    "        (\"remove_rows_with_nas\", DropNaRowsTransformer(columns=columns_to_remove_nas)),\n",
    "        (\"impute_with_means_of_columns\", MeanImputer(columns=columns_to_impute_with_mean)),\n",
    "        (\"impute_with_mean_of_columns_by_promotion_status\", PromotedImputer(columns=columns_to_impute_based_on_promotion_status,\n",
    "                                                                           columns_opponent=columns_to_impute_based_on_promotion_status_oppontent)),\n",
    "        (\"impute_based_on_decision_tree_algorithm\", DecisionTreeClassifierImputer(target_columns=columns_to_impute_based_on_decision_tree,\n",
    "                                                                                  reference_columns=reference_columns_for_decision_tree))\n",
    "    ]\n",
    ")"
   ]
  },
  {
   "cell_type": "code",
   "execution_count": 82,
   "id": "9d781e04-6600-4d07-90bd-b0bf86d0f9d7",
   "metadata": {},
   "outputs": [
    {
     "name": "stdout",
     "output_type": "stream",
     "text": [
      "                                    Total Missing Values  Missing Percentage\n",
      "unique_match_id                                        0                0.00\n",
      "season                                                 0                0.00\n",
      "date                                                   0                0.00\n",
      "day_of_week                                            0                0.00\n",
      "round                                                  0                0.00\n",
      "day                                                    0                0.00\n",
      "team                                                   0                0.00\n",
      "promoted                                               0                0.00\n",
      "opponent                                               0                0.00\n",
      "promoted_opponent                                      0                0.00\n",
      "home                                                   0                0.00\n",
      "days_since_last_game                                   0                0.00\n",
      "games_played_last_21_days                              0                0.00\n",
      "pl_total_points                                        0                0.00\n",
      "pl_total_gf                                            0                0.00\n",
      "pl_total_ga                                            0                0.00\n",
      "pl_total_goal_diff                                     0                0.00\n",
      "pl_position                                            0                0.00\n",
      "last_h2h                                               0                0.00\n",
      "last_h2h_form                                          0                0.00\n",
      "last_h2h_venue                                         0                0.00\n",
      "last_h2h_venue_form                                    0                0.00\n",
      "prev_season_points                                     0                0.00\n",
      "prev_season_gf                                         0                0.00\n",
      "prev_season_ga                                         0                0.00\n",
      "prev_season_goal_diff                                  0                0.00\n",
      "points_pl_form                                         0                0.00\n",
      "gf_pl_form                                             0                0.00\n",
      "ga_pl_form                                             0                0.00\n",
      "days_since_last_game_opponent                          0                0.00\n",
      "games_played_last_21_days_opponent                     0                0.00\n",
      "pl_total_points_opponent                               0                0.00\n",
      "pl_total_gf_opponent                                   0                0.00\n",
      "pl_total_ga_opponent                                   0                0.00\n",
      "pl_total_goal_diff_opponent                            0                0.00\n",
      "pl_position_opponent                                   0                0.00\n",
      "points_pl_form_opponent                                0                0.00\n",
      "gf_pl_form_opponent                                    0                0.00\n",
      "ga_pl_form_opponent                                    0                0.00\n",
      "prev_season_points_opponent                            0                0.00\n",
      "prev_season_gf_opponent                                0                0.00\n",
      "prev_season_ga_opponent                                0                0.00\n",
      "prev_season_goal_diff_opponent                         0                0.00\n"
     ]
    }
   ],
   "source": [
    "transformed_train = pipe.fit_transform(train)\n",
    "summary = missing_values_summary(transformed_train)\n",
    "print(summary)"
   ]
  },
  {
   "cell_type": "code",
   "execution_count": null,
   "id": "49efb52f-0e40-44d7-b0ab-407d310a1a0d",
   "metadata": {},
   "outputs": [],
   "source": []
  },
  {
   "cell_type": "code",
   "execution_count": null,
   "id": "4e6c6718-bc30-44f6-baee-5b19e72bacb4",
   "metadata": {},
   "outputs": [],
   "source": []
  },
  {
   "cell_type": "code",
   "execution_count": null,
   "id": "69e280f2-f776-4f1a-8231-4c3ed0163f0f",
   "metadata": {},
   "outputs": [],
   "source": []
  },
  {
   "cell_type": "code",
   "execution_count": null,
   "id": "90b45bc3-af93-41ff-bbf1-ec346e64308d",
   "metadata": {},
   "outputs": [],
   "source": []
  },
  {
   "cell_type": "code",
   "execution_count": null,
   "id": "7b646d76-c844-4602-8e82-baa80db79ef8",
   "metadata": {},
   "outputs": [],
   "source": []
  },
  {
   "cell_type": "code",
   "execution_count": null,
   "id": "78c77334-4a3b-44f7-91cb-ca9b636a083e",
   "metadata": {},
   "outputs": [],
   "source": []
  },
  {
   "cell_type": "code",
   "execution_count": null,
   "id": "9e4a3281-9b7b-417d-8f00-c2e3f5f21686",
   "metadata": {},
   "outputs": [],
   "source": []
  },
  {
   "cell_type": "code",
   "execution_count": null,
   "id": "a0292d5a-7dcb-4361-a6c1-63305c1a2d71",
   "metadata": {},
   "outputs": [],
   "source": []
  },
  {
   "cell_type": "code",
   "execution_count": 21,
   "id": "bb6e40d8-62e2-42bc-bed7-12e5da0f1d27",
   "metadata": {},
   "outputs": [
    {
     "data": {
      "text/plain": [
       "(17879, 3)"
      ]
     },
     "execution_count": 21,
     "metadata": {},
     "output_type": "execute_result"
    }
   ],
   "source": [
    " X_transformed = X.copy()\n",
    "        \n",
    "# Apply KNN imputation for each target column\n",
    "for target_column in target_columns:\n",
    "    imputer = imputers[target_column]\n",
    "\n",
    "    # Separate the target column and the reference columns\n",
    "    X_reference = X.loc[:, reference_columns]\n",
    "    X_target = X.loc[:, target_column]\n",
    "\n",
    "    # Find the indices of missing values in the target column\n",
    "    missing_indices = np.isnan(X_target)\n",
    "\n",
    "    # Impute the missing values in the target column using KNN\n",
    "    imputed_values = imputer.transform(X_reference)\n",
    "    #X_transformed.loc[missing_indices, target_column] = imputed_values[missing_indices, reference_columns.index(target_column)]\n",
    "imputed_values.shape"
   ]
  },
  {
   "cell_type": "code",
   "execution_count": 22,
   "id": "a89ac6a7-5298-4037-8aae-b8695a9d2526",
   "metadata": {},
   "outputs": [
    {
     "data": {
      "text/plain": [
       "array([[ 1., 41., 35.],\n",
       "       [ 0., 58., 50.],\n",
       "       [ 0., 68., 54.],\n",
       "       ...,\n",
       "       [ 0., 44., 53.],\n",
       "       [ 0., 61., 60.],\n",
       "       [ 1., 59., 55.]])"
      ]
     },
     "execution_count": 22,
     "metadata": {},
     "output_type": "execute_result"
    }
   ],
   "source": [
    "X_target_transformed = X_target\n",
    "\n",
    "# Fit the KNNImputer on the reference columns\n",
    "imputer.fit(X_reference)\n",
    "\n",
    "# Find the indices of missing values in the target column\n",
    "missing_indices = np.isnan(X_target_transformed)\n",
    "\n",
    "# Impute the missing values in the target column using KNN\n",
    "imputed_values = imputer.transform(X_reference)\n",
    "#X_target_transformed[missing_indices] = imputed_values[missing_indices, target_columns.index(target_column)]\n",
    "imputed_values"
   ]
  },
  {
   "cell_type": "code",
   "execution_count": 12,
   "id": "dd172a17-3c08-47e3-8c0a-7feae2b40fbf",
   "metadata": {},
   "outputs": [
    {
     "data": {
      "text/plain": [
       "0"
      ]
     },
     "execution_count": 12,
     "metadata": {},
     "output_type": "execute_result"
    }
   ],
   "source": [
    "X_target_transformed.isna().sum()"
   ]
  },
  {
   "cell_type": "code",
   "execution_count": null,
   "id": "0874481e-13fe-44c8-bff6-74a12e1ba42b",
   "metadata": {},
   "outputs": [],
   "source": []
  },
  {
   "cell_type": "code",
   "execution_count": null,
   "id": "3f74fcfa-4a3f-45cd-b68f-13c063efd570",
   "metadata": {},
   "outputs": [],
   "source": []
  },
  {
   "cell_type": "code",
   "execution_count": 24,
   "id": "53ff0664-3556-44d3-aed0-12d28899d52a",
   "metadata": {},
   "outputs": [],
   "source": [
    "from sklearn.impute import KNNImputer\n",
    "\n",
    "# set inputs\n",
    "X = transformed_train\n",
    "target_columns = ['last_h2h', 'last_h2h_form', 'last_h2h_venue', 'last_h2h_venue_form']\n",
    "reference_columns = ['home', 'prev_season_points', 'prev_season_points_opponent']\n",
    "n_neighbors = 5\n",
    "imputer = KNNImputer(n_neighbors=n_neighbors)\n",
    "\n",
    "\n",
    "target_column = target_columns[0]\n",
    "\n",
    "# Separate the target column and the reference columns\n",
    "X_reference = X.loc[:, reference_columns]\n",
    "X_target = X.loc[:, target_column]\n",
    "X_target_transformed = X_target\n",
    "\n",
    "# Fit the KNNImputer on the reference columns\n",
    "imputer.fit(X_reference)\n",
    "\n",
    "# Find the indices of missing values in the target column\n",
    "missing_indices = np.isnan(X_target_transformed)\n",
    "\n",
    "# Impute the missing values in the target column using KNN\n",
    "imputed_values = imputer.transform(X_reference)\n",
    "X_target_transformed[missing_indices] = imputed_values[missing_indices, target_columns.index(target_column)]"
   ]
  },
  {
   "cell_type": "code",
   "execution_count": 26,
   "id": "59ed3a39-d729-4910-a807-8ea7f959fc9c",
   "metadata": {},
   "outputs": [
    {
     "data": {
      "text/plain": [
       "0       1.00\n",
       "1       1.00\n",
       "2       1.00\n",
       "3       1.00\n",
       "4       0.00\n",
       "        ... \n",
       "17884   1.00\n",
       "17885   0.00\n",
       "17886   3.00\n",
       "17887   0.00\n",
       "17888   0.00\n",
       "Name: last_h2h, Length: 17879, dtype: float64"
      ]
     },
     "execution_count": 26,
     "metadata": {},
     "output_type": "execute_result"
    }
   ],
   "source": [
    "X_target"
   ]
  },
  {
   "cell_type": "code",
   "execution_count": 27,
   "id": "3081a909-aef8-4e79-b0e1-53b2deb41adf",
   "metadata": {},
   "outputs": [
    {
     "data": {
      "text/plain": [
       "0       1.00\n",
       "1       1.00\n",
       "2       1.00\n",
       "3       1.00\n",
       "4       0.00\n",
       "        ... \n",
       "17884   1.00\n",
       "17885   0.00\n",
       "17886   3.00\n",
       "17887   0.00\n",
       "17888   0.00\n",
       "Name: last_h2h, Length: 17879, dtype: float64"
      ]
     },
     "execution_count": 27,
     "metadata": {},
     "output_type": "execute_result"
    }
   ],
   "source": [
    "X_target_transformed"
   ]
  },
  {
   "cell_type": "code",
   "execution_count": null,
   "id": "6dd5e06f-1380-495a-9027-f49f32ff7a55",
   "metadata": {},
   "outputs": [],
   "source": []
  },
  {
   "cell_type": "code",
   "execution_count": null,
   "id": "d2fb0c22-9040-44b7-8b7b-bf4a36a84929",
   "metadata": {},
   "outputs": [],
   "source": []
  },
  {
   "cell_type": "code",
   "execution_count": null,
   "id": "04fc84d7-08da-4dc7-877b-0c50ad93bd27",
   "metadata": {},
   "outputs": [],
   "source": []
  },
  {
   "cell_type": "code",
   "execution_count": null,
   "id": "69aac376-f2c2-4fbd-96ae-d4b2bec43150",
   "metadata": {},
   "outputs": [],
   "source": []
  },
  {
   "cell_type": "code",
   "execution_count": 55,
   "id": "632f404c-afdd-4199-afa4-2af1b0d3c348",
   "metadata": {},
   "outputs": [],
   "source": [
    "from sklearn.base import BaseEstimator, TransformerMixin\n",
    "from sklearn.pipeline import Pipeline\n",
    "\n",
    "# Define the columns for each preprocessing step\n",
    "columns_to_remove_nas = ['unique_match_id', 'season', 'date', 'day_of_week', 'round', 'day', 'team', 'home', 'promoted', 'opponent', 'promoted_opponent',\n",
    "                        'pl_total_points', 'pl_total_gf', 'pl_total_ga', 'pl_total_goal_diff', 'pl_position', 'pl_position_opponent']\n",
    "columns_to_impute_with_mean = ['days_since_last_game', 'games_played_last_21_days']\n",
    "columns_to_impute_based_on_promotion_status = ['prev_season_points', 'prev_season_gf', 'prev_season_ga', 'prev_season_goal_diff', 'points_pl_form', 'gf_pl_form', 'ga_pl_form']\n",
    "columns_to_impute_based_on_pl_position = ['last_h2h', 'last_h2h_form', 'last_h2h_venue', 'last_h2h_venue_form']\n",
    "\n",
    "\n",
    "# define custom transformer, inherited from the sklearn.base BaseEstimator and TransformerMixin classes\n",
    "class DropNaRowsTransformer(BaseEstimator, TransformerMixin):\n",
    "    # initalise additional parameters based on the chosen columns\n",
    "    def __init__(self, columns):\n",
    "        self.columns = columns\n",
    "    \n",
    "    def fit(self, X, y=None):\n",
    "        return self\n",
    "\n",
    "    def transform(self, X, y=None):\n",
    "        X_transformed = X.dropna(subset=self.columns, inplace=False)\n",
    "        return X_transformed\n",
    "\n",
    "\n",
    "# define a custom transformer to impute missing values with the mean of each column\n",
    "class MeanImputer(BaseEstimator, TransformerMixin):\n",
    "    # initalise additional parameters based on the chosen columns\n",
    "    def __init__(self, columns):\n",
    "        self.columns = columns\n",
    "        self.means = {}\n",
    "        \n",
    "    def fit(self, X, y=None):\n",
    "        for column in self.columns:\n",
    "            self.means[column] = {\n",
    "                'mean': X[column].mean()\n",
    "            }\n",
    "        return self \n",
    "    \n",
    "    def transform(self, X, y=None):\n",
    "        X_transformed = X.copy()\n",
    "        for column in self.columns:\n",
    "            X_transformed[column] = X_transformed[column].fillna(value=self.means[column]['mean'])\n",
    "        return X_transformed\n",
    "    \n",
    "    \n",
    "# Define custom transformer for imputing missing values based on the promotion status - if the team is promoted, replace NA the 10th percentile value or the 50th percentile if not\n",
    "class PromotedImputer(BaseEstimator, TransformerMixin):\n",
    "    def __init__(self, columns):\n",
    "        self.columns = columns\n",
    "        self.percentiles = {}\n",
    "\n",
    "    def fit(self, X, y=None):\n",
    "        for column in self.columns:\n",
    "            self.percentiles[column] = {\n",
    "                '10th': X[column].quantile(0.1),\n",
    "                '50th': X[column].quantile(0.5)\n",
    "            }\n",
    "        return self\n",
    "\n",
    "    def transform(self, X, y=None):\n",
    "        X_transformed = X.copy()\n",
    "        for column in self.columns:\n",
    "            X_transformed.loc[X_transformed['promoted'] == 1, column] = X_transformed.loc[X_transformed['promoted'] == 1, column].fillna(value=self.percentiles[column]['10th'])\n",
    "            X_transformed.loc[X_transformed['promoted'] == 0, column] = X_transformed.loc[X_transformed['promoted'] == 0, column].fillna(value=self.percentiles[column]['50th'])\n",
    "        return X_transformed\n",
    "    \n",
    "# define a custom transformer to impute missing values based on the team and opponents premier league position\n",
    "class PlPositionImputer(BaseEstimator, TransformerMixin):\n",
    "    def __init__(self, columns):\n",
    "        self.columns = columns\n",
    "        self.position_means = pd.DataFrame()\n",
    "        \n",
    "    def fit(self, X, y=None):\n",
    "        for column in self.columns:\n",
    "            column_means = pd.DataFrame(X.groupby(['pl_position', 'pl_position_opponent'])[column].mean())\n",
    "            self.position_means = pd.concat([self.position_means, column_means[column]], axis=1)\n",
    "        return self\n",
    "    \n",
    "    def transform(self, X, y=None):\n",
    "        X_transformed = X.copy()\n",
    "        for column in columns:\n",
    "            X_transformed[column] = X_transformed.apply(lambda row: row[column] if not pd.isna(row[column]) else self.position_means.loc[(row['pl_position'], row['pl_position_opponent']), column], axis=1)\n",
    "        return X_transformed\n",
    "\n",
    "\n",
    "pipe = Pipeline(\n",
    "    steps=[\n",
    "        (\"remove_rows_with_nas\", DropNaRowsTransformer(columns=columns_to_remove_nas)),\n",
    "        (\"impute_with_means_of_columns\", MeanImputer(columns=columns_to_impute_with_mean)),\n",
    "        (\"impute_with_mean_of_columns_by_promotion_status\", PromotedImputer(columns=columns_to_impute_based_on_promotion_status)),\n",
    "        (\"impute_with_mean_of_columns_by_pl_position\", PlPositionImputer(columns=columns_to_impute_based_on_pl_position))\n",
    "    ]\n",
    ")\n",
    "\n",
    "transformed_train = pipe.fit_transform(train)"
   ]
  },
  {
   "cell_type": "code",
   "execution_count": 56,
   "id": "1de8e7de-56fd-47fb-9a5e-bf299fec2215",
   "metadata": {},
   "outputs": [
    {
     "name": "stdout",
     "output_type": "stream",
     "text": [
      "                           Total Missing Values  Missing Percentage\n",
      "unique_match_id                               0                0.00\n",
      "season                                        0                0.00\n",
      "date                                          0                0.00\n",
      "day_of_week                                   0                0.00\n",
      "round                                         0                0.00\n",
      "day                                           0                0.00\n",
      "team                                          0                0.00\n",
      "home                                          0                0.00\n",
      "promoted                                      0                0.00\n",
      "opponent                                      0                0.00\n",
      "promoted_opponent                             0                0.00\n",
      "days_since_last_game                          0                0.00\n",
      "games_played_last_21_days                     0                0.00\n",
      "pl_total_points                               0                0.00\n",
      "pl_total_gf                                   0                0.00\n",
      "pl_total_ga                                   0                0.00\n",
      "pl_total_goal_diff                            0                0.00\n",
      "pl_position                                   0                0.00\n",
      "last_h2h                                      0                0.00\n",
      "last_h2h_form                                 0                0.00\n",
      "last_h2h_venue                                0                0.00\n",
      "last_h2h_venue_form                           0                0.00\n",
      "prev_season_points                            0                0.00\n",
      "prev_season_gf                                0                0.00\n",
      "prev_season_ga                                0                0.00\n",
      "prev_season_goal_diff                         0                0.00\n",
      "points_pl_form                                0                0.00\n",
      "gf_pl_form                                    0                0.00\n",
      "ga_pl_form                                    0                0.00\n",
      "pl_position_opponent                          0                0.00\n"
     ]
    }
   ],
   "source": [
    "summary = missing_values_summary(transformed_train)\n",
    "print(summary)"
   ]
  },
  {
   "cell_type": "code",
   "execution_count": null,
   "id": "67e45019-355d-4dfc-80b6-49c8b0a5fd25",
   "metadata": {},
   "outputs": [],
   "source": []
  },
  {
   "cell_type": "code",
   "execution_count": null,
   "id": "89e216bc-1965-4c86-a297-35304b1bb0d1",
   "metadata": {},
   "outputs": [],
   "source": []
  },
  {
   "cell_type": "code",
   "execution_count": null,
   "id": "6aeb4464-97be-4937-9731-3659d4e5c912",
   "metadata": {},
   "outputs": [],
   "source": []
  },
  {
   "cell_type": "code",
   "execution_count": null,
   "id": "7e4c70d2-871a-478d-b8c8-0170b3ae3f78",
   "metadata": {},
   "outputs": [],
   "source": []
  },
  {
   "cell_type": "code",
   "execution_count": null,
   "id": "38343d9f-5564-4bb8-8323-19190a2f4af3",
   "metadata": {},
   "outputs": [],
   "source": []
  },
  {
   "cell_type": "code",
   "execution_count": null,
   "id": "21c55383-2b31-4698-84f2-26a0ed666a5b",
   "metadata": {},
   "outputs": [],
   "source": []
  }
 ],
 "metadata": {
  "kernelspec": {
   "display_name": "Python 3 (ipykernel)",
   "language": "python",
   "name": "python3"
  },
  "language_info": {
   "codemirror_mode": {
    "name": "ipython",
    "version": 3
   },
   "file_extension": ".py",
   "mimetype": "text/x-python",
   "name": "python",
   "nbconvert_exporter": "python",
   "pygments_lexer": "ipython3",
   "version": "3.8.8"
  }
 },
 "nbformat": 4,
 "nbformat_minor": 5
}
