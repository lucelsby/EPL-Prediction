{
 "cells": [
  {
   "cell_type": "markdown",
   "id": "2416eb23-a305-4a7d-9e97-316ebc5a7db5",
   "metadata": {},
   "source": [
    "<center><h1><font size=6> Splitting the Data into Training and Testing Sets </h1></center>"
   ]
  },
  {
   "cell_type": "markdown",
   "id": "117d493a-365d-444a-85a0-c757234beb26",
   "metadata": {},
   "source": [
    "At this point in the process, I need to seperate out my training and testing datasets. I want to do this before I run any Exploratory Data Analysis (EDA) and advanced feature engineering/feature selection to keep the testing set completely unseen and prevent any possible *data snooping bias*, which could help me analyse patterns or behaviours in the test set."
   ]
  },
  {
   "cell_type": "code",
   "execution_count": null,
   "id": "25b877ca-82c5-492e-9082-ca94b7ca9fb2",
   "metadata": {},
   "outputs": [],
   "source": []
  },
  {
   "cell_type": "code",
   "execution_count": null,
   "id": "86747745-25d6-444b-9e20-5967f41a2fa6",
   "metadata": {},
   "outputs": [],
   "source": []
  },
  {
   "cell_type": "code",
   "execution_count": null,
   "id": "7abdce5c-448a-4d80-8aa6-0393447f3bf5",
   "metadata": {},
   "outputs": [],
   "source": []
  },
  {
   "cell_type": "code",
   "execution_count": null,
   "id": "a47fe4cb-2428-4c5f-b45d-12cde46816cc",
   "metadata": {},
   "outputs": [],
   "source": []
  },
  {
   "cell_type": "code",
   "execution_count": null,
   "id": "aa957879-599a-454d-8d17-20a3892625e4",
   "metadata": {},
   "outputs": [],
   "source": []
  },
  {
   "cell_type": "code",
   "execution_count": null,
   "id": "42e89053-d94f-4b45-b778-6ee996705ae3",
   "metadata": {},
   "outputs": [],
   "source": []
  },
  {
   "cell_type": "code",
   "execution_count": null,
   "id": "46e593c4-f085-4cfa-89d4-7f1d2e60958c",
   "metadata": {},
   "outputs": [],
   "source": []
  }
 ],
 "metadata": {
  "kernelspec": {
   "display_name": "Python 3 (ipykernel)",
   "language": "python",
   "name": "python3"
  },
  "language_info": {
   "codemirror_mode": {
    "name": "ipython",
    "version": 3
   },
   "file_extension": ".py",
   "mimetype": "text/x-python",
   "name": "python",
   "nbconvert_exporter": "python",
   "pygments_lexer": "ipython3",
   "version": "3.8.8"
  }
 },
 "nbformat": 4,
 "nbformat_minor": 5
}
