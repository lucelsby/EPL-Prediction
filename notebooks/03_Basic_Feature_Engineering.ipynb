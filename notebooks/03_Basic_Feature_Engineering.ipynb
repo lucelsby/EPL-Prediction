{
 "cells": [
  {
   "cell_type": "markdown",
   "id": "4f1c59d1-37c1-402d-b75c-e52443cbb0a0",
   "metadata": {},
   "source": [
    "<center><h1><font size=6> Basic Feature Engineering </h1></center>"
   ]
  },
  {
   "cell_type": "markdown",
   "id": "11d10a97-27bb-4942-959a-6df76f8376c8",
   "metadata": {},
   "source": [
    "This notebook takes the pre-processed data and calculates some simple features that I thought were useful based on my domain knowledge of the EPL. Some more advanced feature engineering and feature selection was done after I ran some Exploratory Data Analysis (EDA), but I wanted to do this after I split the data into training and testing sets.\n",
    "\n",
    "Set out steps taken..."
   ]
  },
  {
   "cell_type": "code",
   "execution_count": null,
   "id": "6f93ee4a-c2c0-4354-9654-c99c07bf6e3f",
   "metadata": {},
   "outputs": [],
   "source": []
  },
  {
   "cell_type": "code",
   "execution_count": null,
   "id": "eba773df-787d-478b-939e-ff3d378015d4",
   "metadata": {},
   "outputs": [],
   "source": []
  },
  {
   "cell_type": "code",
   "execution_count": null,
   "id": "f86c29b4-8d76-47fb-b5cf-599b57f019d9",
   "metadata": {},
   "outputs": [],
   "source": []
  },
  {
   "cell_type": "code",
   "execution_count": null,
   "id": "51fb8d92-4b6b-474d-a819-7df1a8b58662",
   "metadata": {},
   "outputs": [],
   "source": []
  },
  {
   "cell_type": "code",
   "execution_count": null,
   "id": "2c6c3549-9e74-4e67-804b-09f0d7384343",
   "metadata": {},
   "outputs": [],
   "source": []
  },
  {
   "cell_type": "code",
   "execution_count": null,
   "id": "6ff8a943-f57c-4571-8afa-0990a2ded969",
   "metadata": {},
   "outputs": [],
   "source": []
  }
 ],
 "metadata": {
  "kernelspec": {
   "display_name": "Python 3 (ipykernel)",
   "language": "python",
   "name": "python3"
  },
  "language_info": {
   "codemirror_mode": {
    "name": "ipython",
    "version": 3
   },
   "file_extension": ".py",
   "mimetype": "text/x-python",
   "name": "python",
   "nbconvert_exporter": "python",
   "pygments_lexer": "ipython3",
   "version": "3.8.8"
  }
 },
 "nbformat": 4,
 "nbformat_minor": 5
}
